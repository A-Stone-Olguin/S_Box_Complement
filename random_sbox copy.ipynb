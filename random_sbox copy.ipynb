{
 "cells": [
  {
   "cell_type": "code",
   "execution_count": 1,
   "metadata": {},
   "outputs": [],
   "source": [
    "from sage.all import *\n",
    "from sage.crypto.sbox import *\n",
    "from sage.crypto.sboxes import sboxes\n",
    "import numpy as np"
   ]
  },
  {
   "cell_type": "code",
   "execution_count": 8,
   "metadata": {},
   "outputs": [
    {
     "data": {
      "text/plain": [
       "0.1341246360271594"
      ]
     },
     "execution_count": 8,
     "metadata": {},
     "output_type": "execute_result"
    }
   ],
   "source": [
    "# Modified from https://github.com/abrari/block-cipher-testing\n",
    "\n",
    "# Works only on square s-boxes\n",
    "def sbox_bic(sbox):\n",
    "\n",
    "    maxCorr = 0\n",
    "    m = len(sbox)\n",
    "    for i in range(m):\n",
    "        ei = 2**i \n",
    "        for j in range(m):\n",
    "            for k in range(m):\n",
    "                if j != k:\n",
    "                    avalanche_vec_j = np.zeros(2**m, dtype=float)\n",
    "                    avalanche_vec_k = np.zeros(2**m, dtype=float)\n",
    "\n",
    "                    # Each possible input\n",
    "                    for X in range(2**m):\n",
    "                        ej = 2**j \n",
    "                        ek = 2**k \n",
    "\n",
    "                        dei = sbox[X] ^ sbox[X ^ ei]\n",
    "                        dej = (dei & ej) >> j\n",
    "                        dek = (dei & ek) >> k \n",
    "\n",
    "                        avalanche_vec_j[X] = dej \n",
    "                        avalanche_vec_k[X] = dek\n",
    "                    corr = abs(np.corrcoef(avalanche_vec_j, avalanche_vec_k)[0,1])\n",
    "                \n",
    "                    if maxCorr < corr:\n",
    "                        maxCorr = corr\n",
    "    return maxCorr\n",
    "\n",
    "sbox_bic(sboxes[\"AES\"])\n"
   ]
  },
  {
   "cell_type": "code",
   "execution_count": 10,
   "metadata": {},
   "outputs": [
    {
     "data": {
      "text/plain": [
       "0.5048828125"
      ]
     },
     "execution_count": 10,
     "metadata": {},
     "output_type": "execute_result"
    }
   ],
   "source": [
    "# Modified version to get the average SAC of an sbox from:\n",
    "#       https://github.com/abrari/block-cipher-testing\n",
    "def avg_sac(sbox):\n",
    "    m = len(sbox)\n",
    "    sac_mat = np.array([np.zeros(m, dtype=float) for _ in range(m)])\n",
    "\n",
    "    for i in range(m):\n",
    "        ei = 2**i \n",
    "        for j in range(m):\n",
    "            ej = 2**j \n",
    "            for X in range(2**m):\n",
    "                dei = sbox[X] ^ sbox[X ^ ei]\n",
    "                sac_mat[i][j] += (dei & ej) >> j \n",
    "    \n",
    "    output_len = 2**m\n",
    "    for i in range(m):\n",
    "        for j in range(m):\n",
    "            sac_mat[i][j] /= output_len\n",
    "\n",
    "    sum = 0 \n",
    "    for i in range(m):\n",
    "        sum += np.sum(sac_mat[i])\n",
    "    avg = sum / (m**2)\n",
    "    return avg \n",
    "\n",
    "avg_sac(sboxes[\"AES\"])"
   ]
  },
  {
   "cell_type": "code",
   "execution_count": 2,
   "metadata": {},
   "outputs": [],
   "source": [
    "def print_s_box_properties(S, S_name=None):\n",
    "    if not S_name:\n",
    "        S_name = \"the s-box\"\n",
    "    nonlinearity_stmt = f\"The nonlinearity of {S_name} is: {S.nonlinearity()}\\n\"\n",
    "    linearity_prob_stmt = f\"The linear probability of {S_name} is: {S.maximal_linear_bias_relative()}\\n\" \n",
    "    differential_prob_stmt = f\"The differential probability of {S_name} is: {S.maximal_difference_probability()}\\n\" \n",
    "    print(f\"{nonlinearity_stmt}{linearity_prob_stmt}{differential_prob_stmt}\")\n",
    "\n",
    "def generate_random_sbox():\n",
    "    p = Permutations(range(256)).random_element()\n",
    "    return SBox(*p)"
   ]
  },
  {
   "cell_type": "code",
   "execution_count": 4,
   "metadata": {},
   "outputs": [
    {
     "name": "stdout",
     "output_type": "stream",
     "text": [
      "{112: 11, 94: 5, 102: 1, 100: 8, 96: 20, 0: 1, 88: 1, 64: 4, 104: 4, 90: 1, 82: 1, 92: 1}\n",
      "{0.0625: 11, 0.1328125: 5, 0.1015625: 1, 0.109375: 8, 0.125: 20, 0.5: 1, 0.15625: 1, 0.25: 4, 0.09375: 4, 0.1484375: 1, 0.1796875: 1, 0.140625: 1}\n",
      "{0.015625: 12, 0.03125: 17, 0.0390625: 11, 0.046875: 6, 0.5: 2, 0.0625: 6, 0.25: 4}\n"
     ]
    }
   ],
   "source": [
    "nl_dict = {}\n",
    "lp_dict = {}\n",
    "dp_dict = {}\n",
    "bic_dict = {}\n",
    "\n",
    "for sbox in sboxes.values():\n",
    "    if len(sbox) == 8:\n",
    "        nl = sbox.nonlinearity()\n",
    "        lp = sbox.maximal_linear_bias_relative()\n",
    "        dp = sbox.maximal_difference_probability()\n",
    "        if nl in nl_dict.keys():\n",
    "            nl_dict[nl]+=1\n",
    "        else:\n",
    "            nl_dict[nl] = 1\n",
    "\n",
    "        if lp in lp_dict.keys():\n",
    "            lp_dict[lp] += 1\n",
    "        else:\n",
    "            lp_dict[lp] = 1\n",
    "\n",
    "        if dp in dp_dict.keys():\n",
    "            dp_dict[dp] += 1\n",
    "        else:\n",
    "            dp_dict[dp] = 1\n",
    "\n",
    "print(nl_dict)\n",
    "print(lp_dict)\n",
    "print(dp_dict)"
   ]
  },
  {
   "cell_type": "code",
   "execution_count": 4,
   "metadata": {},
   "outputs": [
    {
     "name": "stdout",
     "output_type": "stream",
     "text": [
      "12\n",
      "12\n",
      "7\n"
     ]
    }
   ],
   "source": [
    "print(len(nl_dict))\n",
    "print(len(lp_dict))\n",
    "print(len(dp_dict))"
   ]
  },
  {
   "cell_type": "code",
   "execution_count": 5,
   "metadata": {},
   "outputs": [
    {
     "data": {
      "text/plain": [
       "(99, 124, 119, 123, 242, 107, 111, 197, 48, 1, 103, 43, 254, 215, 171, 118, 202, 130, 201, 125, 250, 89, 71, 240, 173, 212, 162, 175, 156, 164, 114, 192, 183, 253, 147, 38, 54, 63, 247, 204, 52, 165, 229, 241, 113, 216, 49, 21, 4, 199, 35, 195, 24, 150, 5, 154, 7, 18, 128, 226, 235, 39, 178, 117, 9, 131, 44, 26, 27, 110, 90, 160, 82, 59, 214, 179, 41, 227, 47, 132, 83, 209, 0, 237, 32, 252, 177, 91, 106, 203, 190, 57, 74, 76, 88, 207, 208, 239, 170, 251, 67, 77, 51, 133, 69, 249, 2, 127, 80, 60, 159, 168, 81, 163, 64, 143, 146, 157, 56, 245, 188, 182, 218, 33, 16, 255, 243, 210, 205, 12, 19, 236, 95, 151, 68, 23, 196, 167, 126, 61, 100, 93, 25, 115, 96, 129, 79, 220, 34, 42, 144, 136, 70, 238, 184, 20, 222, 94, 11, 219, 224, 50, 58, 10, 73, 6, 36, 92, 194, 211, 172, 98, 145, 149, 228, 121, 231, 200, 55, 109, 141, 213, 78, 169, 108, 86, 244, 234, 101, 122, 174, 8, 186, 120, 37, 46, 28, 166, 180, 198, 232, 221, 116, 31, 75, 189, 139, 138, 112, 62, 181, 102, 72, 3, 246, 14, 97, 53, 87, 185, 134, 193, 29, 158, 225, 248, 152, 17, 105, 217, 142, 148, 155, 30, 135, 233, 206, 85, 40, 223, 140, 161, 137, 13, 191, 230, 66, 104, 65, 153, 45, 15, 176, 84, 187, 22)"
      ]
     },
     "execution_count": 5,
     "metadata": {},
     "output_type": "execute_result"
    }
   ],
   "source": [
    "sboxes[\"AES\"]"
   ]
  },
  {
   "cell_type": "code",
   "execution_count": 7,
   "metadata": {},
   "outputs": [
    {
     "ename": "AttributeError",
     "evalue": "'SBox' object has no attribute 'SAC'",
     "output_type": "error",
     "traceback": [
      "\u001b[0;31m---------------------------------------------------------------------------\u001b[0m",
      "\u001b[0;31mAttributeError\u001b[0m                            Traceback (most recent call last)",
      "Cell \u001b[0;32mIn[7], line 1\u001b[0m\n\u001b[0;32m----> 1\u001b[0m \u001b[38;5;28mprint\u001b[39m(\u001b[43msboxes\u001b[49m\u001b[43m[\u001b[49m\u001b[38;5;124;43m\"\u001b[39;49m\u001b[38;5;124;43mAES\u001b[39;49m\u001b[38;5;124;43m\"\u001b[39;49m\u001b[43m]\u001b[49m\u001b[38;5;241;43m.\u001b[39;49m\u001b[43mSAC\u001b[49m())\n",
      "\u001b[0;31mAttributeError\u001b[0m: 'SBox' object has no attribute 'SAC'"
     ]
    }
   ],
   "source": [
    "print(sboxes[\"AES\"].SAC())"
   ]
  },
  {
   "cell_type": "markdown",
   "metadata": {},
   "source": [
    "From sbox:\n",
    "https://github.com/okazymyrov/sbox\n"
   ]
  },
  {
   "cell_type": "code",
   "execution_count": null,
   "metadata": {},
   "outputs": [],
   "source": []
  }
 ],
 "metadata": {
  "kernelspec": {
   "display_name": "Python 3",
   "language": "python",
   "name": "python3"
  },
  "language_info": {
   "codemirror_mode": {
    "name": "ipython",
    "version": 3
   },
   "file_extension": ".py",
   "mimetype": "text/x-python",
   "name": "python",
   "nbconvert_exporter": "python",
   "pygments_lexer": "ipython3",
   "version": "3.10.12"
  }
 },
 "nbformat": 4,
 "nbformat_minor": 2
}
