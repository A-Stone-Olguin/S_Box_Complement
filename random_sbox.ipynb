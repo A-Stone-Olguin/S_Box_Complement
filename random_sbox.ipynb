{
 "cells": [
  {
   "cell_type": "code",
   "execution_count": 1,
   "metadata": {},
   "outputs": [],
   "source": [
    "from sage.all import *\n",
    "from sage.crypto.sbox import *"
   ]
  },
  {
   "cell_type": "code",
   "execution_count": 2,
   "metadata": {},
   "outputs": [],
   "source": [
    "def print_s_box_properties(S, S_name=None):\n",
    "    if not S_name:\n",
    "        S_name = \"the s-box\"\n",
    "    nonlinearity_stmt = f\"The nonlinearity of {S_name} is: {S.nonlinearity()}\\n\"\n",
    "    linearity_prob_stmt = f\"The linear probability of {S_name} is: {S.maximal_linear_bias_relative()}\\n\" \n",
    "    differential_prob_stmt = f\"The differential probability of {S_name} is: {S.maximal_difference_probability()}\\n\" \n",
    "    print(f\"{nonlinearity_stmt}{linearity_prob_stmt}{differential_prob_stmt}\")\n",
    "\n",
    "def generate_random_sbox():\n",
    "    p = Permutations(range(256)).random_element()\n",
    "    return SBox(*p)"
   ]
  },
  {
   "cell_type": "code",
   "execution_count": 22,
   "metadata": {},
   "outputs": [
    {
     "name": "stdout",
     "output_type": "stream",
     "text": [
      "{112: 11, 94: 5, 102: 1, 100: 8, 96: 20, 0: 1, 88: 1, 64: 4, 104: 4, 90: 1, 82: 1, 92: 1}\n",
      "{0.0625: 11, 0.1328125: 5, 0.1015625: 1, 0.109375: 8, 0.125: 20, 0.5: 1, 0.15625: 1, 0.25: 4, 0.09375: 4, 0.1484375: 1, 0.1796875: 1, 0.140625: 1}\n",
      "{0.015625: 12, 0.03125: 17, 0.0390625: 11, 0.046875: 6, 0.5: 2, 0.0625: 6, 0.25: 4}\n"
     ]
    }
   ],
   "source": [
    "from sage.crypto.sboxes import sboxes\n",
    "nl_dict = {}\n",
    "lp_dict = {}\n",
    "dp_dict = {}\n",
    "\n",
    "for sbox in sboxes.values():\n",
    "    if len(sbox) == 8:\n",
    "        nl = sbox.nonlinearity()\n",
    "        lp = sbox.maximal_linear_bias_relative()\n",
    "        dp = sbox.maximal_difference_probability()\n",
    "        if nl in nl_dict.keys():\n",
    "            nl_dict[nl]+=1\n",
    "        else:\n",
    "            nl_dict[nl] = 1\n",
    "\n",
    "        if lp in lp_dict.keys():\n",
    "            lp_dict[lp] += 1\n",
    "        else:\n",
    "            lp_dict[lp] = 1\n",
    "\n",
    "        if dp in dp_dict.keys():\n",
    "            dp_dict[dp] += 1\n",
    "        else:\n",
    "            dp_dict[dp] = 1\n",
    "\n",
    "print(nl_dict)\n",
    "print(lp_dict)\n",
    "print(dp_dict)"
   ]
  },
  {
   "cell_type": "code",
   "execution_count": 23,
   "metadata": {},
   "outputs": [
    {
     "name": "stdout",
     "output_type": "stream",
     "text": [
      "12\n",
      "12\n",
      "7\n"
     ]
    }
   ],
   "source": [
    "print(len(nl_dict))\n",
    "print(len(lp_dict))\n",
    "print(len(dp_dict))"
   ]
  },
  {
   "cell_type": "code",
   "execution_count": 25,
   "metadata": {},
   "outputs": [
    {
     "data": {
      "text/plain": [
       "(1, 10, 4, 12, 6, 15, 3, 9, 2, 13, 11, 7, 5, 0, 8, 14)"
      ]
     },
     "execution_count": 25,
     "metadata": {},
     "output_type": "execute_result"
    }
   ],
   "source": [
    "sboxes[\"GIFT\"]"
   ]
  },
  {
   "cell_type": "code",
   "execution_count": null,
   "metadata": {},
   "outputs": [],
   "source": []
  }
 ],
 "metadata": {
  "kernelspec": {
   "display_name": "Python 3",
   "language": "python",
   "name": "python3"
  },
  "language_info": {
   "codemirror_mode": {
    "name": "ipython",
    "version": 3
   },
   "file_extension": ".py",
   "mimetype": "text/x-python",
   "name": "python",
   "nbconvert_exporter": "python",
   "pygments_lexer": "ipython3",
   "version": "3.10.12"
  }
 },
 "nbformat": 4,
 "nbformat_minor": 2
}
