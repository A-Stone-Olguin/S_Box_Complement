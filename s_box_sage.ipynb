{
 "cells": [
  {
   "cell_type": "markdown",
   "metadata": {},
   "source": [
    "# Sage Analysis of S-Boxes"
   ]
  },
  {
   "cell_type": "markdown",
   "metadata": {},
   "source": [
    "## Import from Sage"
   ]
  },
  {
   "cell_type": "code",
   "execution_count": 1,
   "metadata": {},
   "outputs": [],
   "source": [
    "from sage.all import *\n",
    "from sage.crypto.sbox import *"
   ]
  },
  {
   "cell_type": "markdown",
   "metadata": {},
   "source": [
    "Get the Rijndael S-box (Tiny-AES)"
   ]
  },
  {
   "cell_type": "code",
   "execution_count": 2,
   "metadata": {},
   "outputs": [],
   "source": [
    "from main import s_box_def, print_matrix, MatrixFromSquareArray"
   ]
  },
  {
   "cell_type": "markdown",
   "metadata": {},
   "source": [
    "Function to evaluate properties about an S-box"
   ]
  },
  {
   "cell_type": "code",
   "execution_count": 3,
   "metadata": {},
   "outputs": [],
   "source": [
    "def print_s_box_properties(S, S_name=None):\n",
    "    if not S_name:\n",
    "        S_name = \"the s-box\"\n",
    "    nonlinearity_stmt = f\"The nonlinearity of {S_name} is: {S.nonlinearity()}\\n\"\n",
    "    linearity_prob_stmt = f\"The linear probability of {S_name} is: {S.maximal_linear_bias_relative()}\\n\" \n",
    "    differential_prob_stmt = f\"The differential probability of {S_name} is: {S.maximal_difference_probability()}\\n\" \n",
    "    print(f\"{nonlinearity_stmt}{linearity_prob_stmt}{differential_prob_stmt}\")"
   ]
  },
  {
   "cell_type": "markdown",
   "metadata": {},
   "source": [
    "A 4-bit S-box and its properties"
   ]
  },
  {
   "cell_type": "code",
   "execution_count": 4,
   "metadata": {},
   "outputs": [
    {
     "name": "stdout",
     "output_type": "stream",
     "text": [
      "[  0,   1,   2,   3]\n",
      "[  4,   6,   8,  10]\n",
      "[  5,  11,  12,  15]\n",
      "[  7,   9,  13,  14]\n",
      "\n",
      "The nonlinearity of 4-bit s-box is: 4\n",
      "The linear probability of 4-bit s-box is: 0.25\n",
      "The differential probability of 4-bit s-box is: 0.25\n",
      "\n",
      "\n",
      "[44320, 938, 38544, 26770]\n",
      "[53346, 3651, 13326, 29441]\n",
      "[41161, 8820, 51724, 6201]\n",
      "[6596, 33047, 17573, 17752]\n",
      "\n",
      "The nonlinearity of 4-bit complement s-box is: 0\n",
      "The linear probability of 4-bit complement s-box is: 0.5\n",
      "The differential probability of 4-bit complement s-box is: 9.1552734375e-05\n",
      "\n"
     ]
    }
   ],
   "source": [
    "bit_4 = [\n",
    "    0,  1,  2,  3,\n",
    "    4,  6,  8, 10,\n",
    "    5, 11, 12, 15,\n",
    "    7,  9, 13, 14\n",
    "    ]\n",
    "S4 = SBox(*bit_4)\n",
    "# Print the Rijndael S-box\n",
    "print_matrix(MatrixFromSquareArray(bit_4))\n",
    "print()\n",
    "print_s_box_properties(S4, \"4-bit s-box\")\n",
    "print()\n",
    "\n",
    "complement_hw6_hd8 = [\n",
    "    44320,   938, 38544, 26770,\n",
    "    53346,  3651, 13326, 29441,\n",
    "    41161,  8820, 51724,  6201,\n",
    "     6596, 33047, 17573, 17752 \n",
    "    ]\n",
    "\n",
    "C4 = SBox(*complement_hw6_hd8)\n",
    "# Print the Rijndael S-box\n",
    "print_matrix(MatrixFromSquareArray(complement_hw6_hd8))\n",
    "print()\n",
    "print_s_box_properties(C4, \"4-bit complement s-box\")"
   ]
  },
  {
   "cell_type": "markdown",
   "metadata": {},
   "source": [
    "Make an S-box from Rijndael and evaluate its properties"
   ]
  },
  {
   "cell_type": "code",
   "execution_count": 5,
   "metadata": {},
   "outputs": [
    {
     "name": "stdout",
     "output_type": "stream",
     "text": [
      "[ 99, 124, 119, 123, 242, 107, 111, 197,  48,   1, 103,  43, 254, 215, 171, 118]\n",
      "[202, 130, 201, 125, 250,  89,  71, 240, 173, 212, 162, 175, 156, 164, 114, 192]\n",
      "[183, 253, 147,  38,  54,  63, 247, 204,  52, 165, 229, 241, 113, 216,  49,  21]\n",
      "[  4, 199,  35, 195,  24, 150,   5, 154,   7,  18, 128, 226, 235,  39, 178, 117]\n",
      "[  9, 131,  44,  26,  27, 110,  90, 160,  82,  59, 214, 179,  41, 227,  47, 132]\n",
      "[ 83, 209,   0, 237,  32, 252, 177,  91, 106, 203, 190,  57,  74,  76,  88, 207]\n",
      "[208, 239, 170, 251,  67,  77,  51, 133,  69, 249,   2, 127,  80,  60, 159, 168]\n",
      "[ 81, 163,  64, 143, 146, 157,  56, 245, 188, 182, 218,  33,  16, 255, 243, 210]\n",
      "[205,  12,  19, 236,  95, 151,  68,  23, 196, 167, 126,  61, 100,  93,  25, 115]\n",
      "[ 96, 129,  79, 220,  34,  42, 144, 136,  70, 238, 184,  20, 222,  94,  11, 219]\n",
      "[224,  50,  58,  10,  73,   6,  36,  92, 194, 211, 172,  98, 145, 149, 228, 121]\n",
      "[231, 200,  55, 109, 141, 213,  78, 169, 108,  86, 244, 234, 101, 122, 174,   8]\n",
      "[186, 120,  37,  46,  28, 166, 180, 198, 232, 221, 116,  31,  75, 189, 139, 138]\n",
      "[112,  62, 181, 102,  72,   3, 246,  14,  97,  53,  87, 185, 134, 193,  29, 158]\n",
      "[225, 248, 152,  17, 105, 217, 142, 148, 155,  30, 135, 233, 206,  85,  40, 223]\n",
      "[140, 161, 137,  13, 191, 230,  66, 104,  65, 153,  45,  15, 176,  84, 187,  22]\n",
      "\n",
      "The nonlinearity of Rijndael s-box is: 112\n",
      "The linear probability of Rijndael s-box is: 0.0625\n",
      "The differential probability of Rijndael s-box is: 0.015625\n",
      "\n"
     ]
    }
   ],
   "source": [
    "S = SBox(*s_box_def())\n",
    "# Print the Rijndael S-box\n",
    "print_matrix(MatrixFromSquareArray(s_box_def()))\n",
    "print()\n",
    "print_s_box_properties(S, \"Rijndael s-box\")"
   ]
  },
  {
   "cell_type": "markdown",
   "metadata": {},
   "source": [
    "Manually creating AES-2SBOX_7F"
   ]
  },
  {
   "cell_type": "code",
   "execution_count": 6,
   "metadata": {},
   "outputs": [],
   "source": [
    "aes_2sbox_7f = [ \n",
    "    0x13, 0x0c, 0x2d, 0x32, 0x6f, 0x70, 0x51, 0x4e, 0xeb, 0xf4, 0xd5, 0xca, 0x97, 0x88, 0xa9, 0xb6,\n",
    "    0xe2, 0xfd, 0xdc, 0xc3, 0x9e, 0x81, 0xa0, 0xbe, 0x1a, 0x05, 0x24, 0x3b, 0x66, 0x79, 0x58, 0x47,\n",
    "    0xf0, 0xef, 0xce, 0xd1, 0x8c, 0x93, 0xb2, 0xad, 0x08, 0x17, 0x36, 0x29, 0x74, 0x6b, 0x4a, 0x55,\n",
    "    0x01, 0x1e, 0x3f, 0x20, 0x7d, 0x62, 0x43, 0x5c, 0xf9, 0xe6, 0xc7, 0xd8, 0x85, 0x9a, 0xbb, 0xa4,\n",
    "    0xd4, 0xcb, 0xea, 0xf5, 0xa8, 0xb7, 0x96, 0x89, 0x2c, 0x33, 0x12, 0x0d, 0x50, 0x4f, 0x6e, 0x71,\n",
    "    0x25, 0x3a, 0x1b, 0x04, 0x59, 0x46, 0x67, 0x78, 0xdd, 0xc2, 0xe3, 0xfc, 0xa1, 0xbe, 0x9f, 0x80,\n",
    "    0x37, 0x28, 0x09, 0x16, 0x4b, 0x54, 0x75, 0x6a, 0xcf, 0xd0, 0xf1, 0xee, 0xb3, 0xac, 0x8d, 0x92,\n",
    "    0xc6, 0xd9, 0xf8, 0xe7, 0xba, 0xa5, 0x84, 0x9b, 0x3e, 0x21, 0x00, 0x1f, 0x42, 0x5d, 0x7c, 0x63,\n",
    "    0x9c, 0x83, 0xa2, 0xbd, 0xe0, 0xff, 0xde, 0xc1, 0x64, 0x7b, 0x5a, 0x45, 0x18, 0x07, 0x26, 0x39,\n",
    "    0x6d, 0x72, 0x53, 0x4c, 0x11, 0x0e, 0x2f, 0x30, 0x95, 0x8a, 0xab, 0xb4, 0xe9, 0xf6, 0xd7, 0xc8,\n",
    "    0x7f, 0x60, 0x41, 0x5e, 0x03, 0x1c, 0x3d, 0x22, 0x87, 0x98, 0xb9, 0xa6, 0xfb, 0xe4, 0xc5, 0xda,\n",
    "    0x8e, 0x91, 0xb0, 0xaf, 0xf2, 0xed, 0xcc, 0xd3, 0x76, 0x69, 0x48, 0x57, 0x0a, 0x15, 0x34, 0x2b,\n",
    "    0x5b, 0x44, 0x65, 0x7a, 0x27, 0x38, 0x19, 0x06, 0xa3, 0xbc, 0x9d, 0x82, 0xdf, 0xc0, 0xe1, 0xfe,\n",
    "    0xaa, 0xb5, 0x94, 0x8b, 0xd6, 0xc9, 0xe8, 0xf7, 0x52, 0x4d, 0x6c, 0x73, 0x2e, 0x31, 0x10, 0x0f,\n",
    "    0xb8, 0xa7, 0x86, 0x99, 0xc4, 0xdb, 0xfa, 0xe5, 0x40, 0x5f, 0x7e, 0x61, 0x3c, 0x23, 0x02, 0x1d,\n",
    "    0x49, 0x56, 0x77, 0x68, 0x35, 0x2a, 0x0b, 0x14, 0xb1, 0xae, 0x8f, 0x90, 0xcd, 0xd2, 0xf3, 0xec\n",
    "    ]"
   ]
  },
  {
   "cell_type": "code",
   "execution_count": 7,
   "metadata": {},
   "outputs": [
    {
     "name": "stdout",
     "output_type": "stream",
     "text": [
      "[ 19,  12,  45,  50, 111, 112,  81,  78, 235, 244, 213, 202, 151, 136, 169, 182]\n",
      "[226, 253, 220, 195, 158, 129, 160, 190,  26,   5,  36,  59, 102, 121,  88,  71]\n",
      "[240, 239, 206, 209, 140, 147, 178, 173,   8,  23,  54,  41, 116, 107,  74,  85]\n",
      "[  1,  30,  63,  32, 125,  98,  67,  92, 249, 230, 199, 216, 133, 154, 187, 164]\n",
      "[212, 203, 234, 245, 168, 183, 150, 137,  44,  51,  18,  13,  80,  79, 110, 113]\n",
      "[ 37,  58,  27,   4,  89,  70, 103, 120, 221, 194, 227, 252, 161, 190, 159, 128]\n",
      "[ 55,  40,   9,  22,  75,  84, 117, 106, 207, 208, 241, 238, 179, 172, 141, 146]\n",
      "[198, 217, 248, 231, 186, 165, 132, 155,  62,  33,   0,  31,  66,  93, 124,  99]\n",
      "[156, 131, 162, 189, 224, 255, 222, 193, 100, 123,  90,  69,  24,   7,  38,  57]\n",
      "[109, 114,  83,  76,  17,  14,  47,  48, 149, 138, 171, 180, 233, 246, 215, 200]\n",
      "[127,  96,  65,  94,   3,  28,  61,  34, 135, 152, 185, 166, 251, 228, 197, 218]\n",
      "[142, 145, 176, 175, 242, 237, 204, 211, 118, 105,  72,  87,  10,  21,  52,  43]\n",
      "[ 91,  68, 101, 122,  39,  56,  25,   6, 163, 188, 157, 130, 223, 192, 225, 254]\n",
      "[170, 181, 148, 139, 214, 201, 232, 247,  82,  77, 108, 115,  46,  49,  16,  15]\n",
      "[184, 167, 134, 153, 196, 219, 250, 229,  64,  95, 126,  97,  60,  35,   2,  29]\n",
      "[ 73,  86, 119, 104,  53,  42,  11,  20, 177, 174, 143, 144, 205, 210, 243, 236]\n",
      "\n",
      "The nonlinearity of aes_2sbox_7f s-box is: 0\n",
      "The linear probability of aes_2sbox_7f s-box is: 0.5\n",
      "The differential probability of aes_2sbox_7f s-box is: 0.9921875\n",
      "\n"
     ]
    }
   ],
   "source": [
    "Sbox2 = SBox(*aes_2sbox_7f, big_endian=False)\n",
    "print_matrix(MatrixFromSquareArray(aes_2sbox_7f))\n",
    "print()\n",
    "print_s_box_properties(Sbox2, \"aes_2sbox_7f s-box\")"
   ]
  },
  {
   "cell_type": "markdown",
   "metadata": {},
   "source": [
    "Create the 7F Xor s-box from the AES-2SBOX"
   ]
  },
  {
   "cell_type": "code",
   "execution_count": 12,
   "metadata": {},
   "outputs": [
    {
     "name": "stdout",
     "output_type": "stream",
     "text": [
      "[ 52, 113, 236, 164,  34, 187, 124, 214,  69, 149, 243, 199, 106,  42,  63,  29]\n",
      "[140, 127, 158, 128, 173, 121, 205, 193,  27,  56,  65, 248, 203, 101, 218, 224]\n",
      "[104, 120, 145, 126,  97,  31,  20, 168, 130, 148, 232,  48, 200, 112, 180,  77]\n",
      "[163,  53,  72, 242, 244, 167,  82, 239, 177, 152, 156,  61,  67, 143,  94,  15]\n",
      "[ 26, 142,  18,  23, 230, 141, 107, 162, 228, 216, 219, 175,  36, 204,   0,  91]\n",
      "[ 21,  14, 100, 103,  90, 137,  76, 154,  74, 125,  22,  59, 116,  80, 136, 186]\n",
      "[255, 132, 206,  92,  10, 161,  87, 170,  46, 191, 135,  99,   7,  13, 217,  45]\n",
      "[246, 176,  24, 198,  96,  58, 202, 247, 245, 153, 147, 171, 123, 155, 211,  28]\n",
      "[ 89,  44, 105, 150,  93,  86, 223, 174,  39, 119, 146, 252, 225, 190,   5,  43]\n",
      "[ 38, 109,  66, 183, 185,  54, 131,  19,  60, 117,  50, 188,  84, 172, 249,  98]\n",
      "[222, 166,  41,   8, 102,  64, 157,  79,   3, 237, 234, 197, 114, 181,  25,  71]\n",
      "[ 11, 111, 144, 159,  37, 201, 179, 220, 110,  35,   6, 178,  16,  85,   9, 235]\n",
      "[209, 182, 108, 241,  51, 134, 122, 196,  81,  70, 254,  33, 133,   4,   1, 240]\n",
      "[ 57, 238, 139,   2, 151, 118, 229, 207, 215, 115, 210, 195, 184,  17, 194,  40]\n",
      "[ 47,  78,  12, 138,  88, 129,  55,  68,  30, 208,  73, 160,  75,  49, 213, 165]\n",
      "[212,  83, 226, 221, 231, 250, 251, 169, 233, 253, 227,  62, 189, 192,  32,  95]\n"
     ]
    }
   ],
   "source": [
    "from bitarray import bitarray\n",
    "aes_2sbox_7f = [x ^ 127 for x in s_box_def()]\n",
    "\n",
    "c = [0,1,1,0,0,0,1,1]\n",
    "for i, byte in enumerate(aes_2sbox_7f):\n",
    "    bit_arr = bitarray('{0:08b}'.format(byte))\n",
    "    new_bit_arr = bitarray()\n",
    "    for j in range(len(bit_arr)):\n",
    "        new_bit = bit_arr[j] ^ bit_arr[(j+4)%8] ^ bit_arr[(j+5)%8]\\\n",
    "        ^ bit_arr[(j+6)%8] ^ bit_arr[(j+7)%8] ^ c[j]\n",
    "        new_bit_arr.append(new_bit)\n",
    "    aes_2sbox_7f[i] = int(new_bit_arr.to01(), 2)\n",
    "\n",
    "print_matrix(MatrixFromSquareArray(aes_2sbox_7f))"
   ]
  },
  {
   "cell_type": "code",
   "execution_count": 9,
   "metadata": {},
   "outputs": [
    {
     "data": {
      "text/plain": [
       "(0, 3, 1, 2)"
      ]
     },
     "execution_count": 9,
     "metadata": {},
     "output_type": "execute_result"
    }
   ],
   "source": [
    "V = SBox(0,3,1,2)\n",
    "V"
   ]
  }
 ],
 "metadata": {
  "kernelspec": {
   "display_name": "Python 3",
   "language": "python",
   "name": "python3"
  },
  "language_info": {
   "codemirror_mode": {
    "name": "ipython",
    "version": 3
   },
   "file_extension": ".py",
   "mimetype": "text/x-python",
   "name": "python",
   "nbconvert_exporter": "python",
   "pygments_lexer": "ipython3",
   "version": "3.10.12"
  }
 },
 "nbformat": 4,
 "nbformat_minor": 2
}
