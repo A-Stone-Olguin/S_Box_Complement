{
 "cells": [
  {
   "cell_type": "markdown",
   "metadata": {},
   "source": [
    "# Sage Analysis of S-Boxes"
   ]
  },
  {
   "cell_type": "markdown",
   "metadata": {},
   "source": [
    "## Import from Sage"
   ]
  },
  {
   "cell_type": "code",
   "execution_count": 1,
   "metadata": {},
   "outputs": [],
   "source": [
    "from sage.all import *\n",
    "from sage.crypto.sbox import *"
   ]
  },
  {
   "cell_type": "markdown",
   "metadata": {},
   "source": [
    "Get the Rijndael S-box (Tiny-AES)"
   ]
  },
  {
   "cell_type": "code",
   "execution_count": 2,
   "metadata": {},
   "outputs": [],
   "source": [
    "from main import s_box_def, print_matrix, MatrixFromSquareArray\n",
    "import pickle"
   ]
  },
  {
   "cell_type": "markdown",
   "metadata": {},
   "source": [
    "Function to evaluate properties about an S-box"
   ]
  },
  {
   "cell_type": "code",
   "execution_count": 3,
   "metadata": {},
   "outputs": [],
   "source": [
    "def print_s_box_properties(S, S_name=None):\n",
    "    if not S_name:\n",
    "        S_name = \"the s-box\"\n",
    "    nonlinearity_stmt = f\"The nonlinearity of {S_name} is: {S.nonlinearity()}\\n\"\n",
    "    linearity_prob_stmt = f\"The linear probability of {S_name} is: {S.maximal_linear_bias_relative()}\\n\" \n",
    "    differential_prob_stmt = f\"The differential probability of {S_name} is: {S.maximal_difference_probability()}\\n\" \n",
    "    print(f\"{nonlinearity_stmt}{linearity_prob_stmt}{differential_prob_stmt}\")"
   ]
  },
  {
   "cell_type": "markdown",
   "metadata": {},
   "source": [
    "A 4-bit S-box and its properties"
   ]
  },
  {
   "cell_type": "code",
   "execution_count": 4,
   "metadata": {},
   "outputs": [
    {
     "name": "stdout",
     "output_type": "stream",
     "text": [
      "[  0,   1,   2,   3]\n",
      "[  4,   6,   8,  10]\n",
      "[  5,  11,  12,  15]\n",
      "[  7,   9,  13,  14]\n",
      "\n",
      "The nonlinearity of 4-bit s-box is: 4\n",
      "The linear probability of 4-bit s-box is: 0.25\n",
      "The differential probability of 4-bit s-box is: 0.25\n",
      "\n",
      "\n",
      "[44320, 938, 38544, 26770]\n",
      "[53346, 3651, 13326, 29441]\n",
      "[41161, 8820, 51724, 6201]\n",
      "[6596, 33047, 17573, 17752]\n",
      "\n",
      "The nonlinearity of 4-bit complement s-box is: 0\n",
      "The linear probability of 4-bit complement s-box is: 0.5\n",
      "The differential probability of 4-bit complement s-box is: 9.1552734375e-05\n",
      "\n"
     ]
    }
   ],
   "source": [
    "bit_4 = [\n",
    "    0,  1,  2,  3,\n",
    "    4,  6,  8, 10,\n",
    "    5, 11, 12, 15,\n",
    "    7,  9, 13, 14\n",
    "    ]\n",
    "S4 = SBox(*bit_4)\n",
    "# Print the Rijndael S-box\n",
    "print_matrix(MatrixFromSquareArray(bit_4))\n",
    "print()\n",
    "print_s_box_properties(S4, \"4-bit s-box\")\n",
    "print()\n",
    "\n",
    "complement_hw6_hd8 = [\n",
    "    44320,   938, 38544, 26770,\n",
    "    53346,  3651, 13326, 29441,\n",
    "    41161,  8820, 51724,  6201,\n",
    "     6596, 33047, 17573, 17752 \n",
    "    ]\n",
    "\n",
    "C4 = SBox(*complement_hw6_hd8)\n",
    "# Print the Rijndael S-box\n",
    "print_matrix(MatrixFromSquareArray(complement_hw6_hd8))\n",
    "print()\n",
    "print_s_box_properties(C4, \"4-bit complement s-box\")"
   ]
  },
  {
   "cell_type": "markdown",
   "metadata": {},
   "source": [
    "Make an S-box from Rijndael and evaluate its properties"
   ]
  },
  {
   "cell_type": "code",
   "execution_count": 5,
   "metadata": {},
   "outputs": [
    {
     "name": "stdout",
     "output_type": "stream",
     "text": [
      "[ 99, 124, 119, 123, 242, 107, 111, 197,  48,   1, 103,  43, 254, 215, 171, 118]\n",
      "[202, 130, 201, 125, 250,  89,  71, 240, 173, 212, 162, 175, 156, 164, 114, 192]\n",
      "[183, 253, 147,  38,  54,  63, 247, 204,  52, 165, 229, 241, 113, 216,  49,  21]\n",
      "[  4, 199,  35, 195,  24, 150,   5, 154,   7,  18, 128, 226, 235,  39, 178, 117]\n",
      "[  9, 131,  44,  26,  27, 110,  90, 160,  82,  59, 214, 179,  41, 227,  47, 132]\n",
      "[ 83, 209,   0, 237,  32, 252, 177,  91, 106, 203, 190,  57,  74,  76,  88, 207]\n",
      "[208, 239, 170, 251,  67,  77,  51, 133,  69, 249,   2, 127,  80,  60, 159, 168]\n",
      "[ 81, 163,  64, 143, 146, 157,  56, 245, 188, 182, 218,  33,  16, 255, 243, 210]\n",
      "[205,  12,  19, 236,  95, 151,  68,  23, 196, 167, 126,  61, 100,  93,  25, 115]\n",
      "[ 96, 129,  79, 220,  34,  42, 144, 136,  70, 238, 184,  20, 222,  94,  11, 219]\n",
      "[224,  50,  58,  10,  73,   6,  36,  92, 194, 211, 172,  98, 145, 149, 228, 121]\n",
      "[231, 200,  55, 109, 141, 213,  78, 169, 108,  86, 244, 234, 101, 122, 174,   8]\n",
      "[186, 120,  37,  46,  28, 166, 180, 198, 232, 221, 116,  31,  75, 189, 139, 138]\n",
      "[112,  62, 181, 102,  72,   3, 246,  14,  97,  53,  87, 185, 134, 193,  29, 158]\n",
      "[225, 248, 152,  17, 105, 217, 142, 148, 155,  30, 135, 233, 206,  85,  40, 223]\n",
      "[140, 161, 137,  13, 191, 230,  66, 104,  65, 153,  45,  15, 176,  84, 187,  22]\n",
      "\n",
      "The nonlinearity of Rijndael s-box is: 112\n",
      "The linear probability of Rijndael s-box is: 0.0625\n",
      "The differential probability of Rijndael s-box is: 0.015625\n",
      "\n"
     ]
    }
   ],
   "source": [
    "S = SBox(*s_box_def())\n",
    "# Print the Rijndael S-box\n",
    "print_matrix(MatrixFromSquareArray(s_box_def()))\n",
    "print()\n",
    "print_s_box_properties(S, \"Rijndael s-box\")"
   ]
  },
  {
   "cell_type": "markdown",
   "metadata": {},
   "source": [
    "Manually creating AES-2SBOX_7F"
   ]
  },
  {
   "cell_type": "code",
   "execution_count": 6,
   "metadata": {},
   "outputs": [],
   "source": [
    "aes_2sbox_7f = [ \n",
    "    0x13, 0x0c, 0x2d, 0x32, 0x6f, 0x70, 0x51, 0x4e, 0xeb, 0xf4, 0xd5, 0xca, 0x97, 0x88, 0xa9, 0xb6,\n",
    "    0xe2, 0xfd, 0xdc, 0xc3, 0x9e, 0x81, 0xa0, 0xbe, 0x1a, 0x05, 0x24, 0x3b, 0x66, 0x79, 0x58, 0x47,\n",
    "    0xf0, 0xef, 0xce, 0xd1, 0x8c, 0x93, 0xb2, 0xad, 0x08, 0x17, 0x36, 0x29, 0x74, 0x6b, 0x4a, 0x55,\n",
    "    0x01, 0x1e, 0x3f, 0x20, 0x7d, 0x62, 0x43, 0x5c, 0xf9, 0xe6, 0xc7, 0xd8, 0x85, 0x9a, 0xbb, 0xa4,\n",
    "    0xd4, 0xcb, 0xea, 0xf5, 0xa8, 0xb7, 0x96, 0x89, 0x2c, 0x33, 0x12, 0x0d, 0x50, 0x4f, 0x6e, 0x71,\n",
    "    0x25, 0x3a, 0x1b, 0x04, 0x59, 0x46, 0x67, 0x78, 0xdd, 0xc2, 0xe3, 0xfc, 0xa1, 0xbe, 0x9f, 0x80,\n",
    "    0x37, 0x28, 0x09, 0x16, 0x4b, 0x54, 0x75, 0x6a, 0xcf, 0xd0, 0xf1, 0xee, 0xb3, 0xac, 0x8d, 0x92,\n",
    "    0xc6, 0xd9, 0xf8, 0xe7, 0xba, 0xa5, 0x84, 0x9b, 0x3e, 0x21, 0x00, 0x1f, 0x42, 0x5d, 0x7c, 0x63,\n",
    "    0x9c, 0x83, 0xa2, 0xbd, 0xe0, 0xff, 0xde, 0xc1, 0x64, 0x7b, 0x5a, 0x45, 0x18, 0x07, 0x26, 0x39,\n",
    "    0x6d, 0x72, 0x53, 0x4c, 0x11, 0x0e, 0x2f, 0x30, 0x95, 0x8a, 0xab, 0xb4, 0xe9, 0xf6, 0xd7, 0xc8,\n",
    "    0x7f, 0x60, 0x41, 0x5e, 0x03, 0x1c, 0x3d, 0x22, 0x87, 0x98, 0xb9, 0xa6, 0xfb, 0xe4, 0xc5, 0xda,\n",
    "    0x8e, 0x91, 0xb0, 0xaf, 0xf2, 0xed, 0xcc, 0xd3, 0x76, 0x69, 0x48, 0x57, 0x0a, 0x15, 0x34, 0x2b,\n",
    "    0x5b, 0x44, 0x65, 0x7a, 0x27, 0x38, 0x19, 0x06, 0xa3, 0xbc, 0x9d, 0x82, 0xdf, 0xc0, 0xe1, 0xfe,\n",
    "    0xaa, 0xb5, 0x94, 0x8b, 0xd6, 0xc9, 0xe8, 0xf7, 0x52, 0x4d, 0x6c, 0x73, 0x2e, 0x31, 0x10, 0x0f,\n",
    "    0xb8, 0xa7, 0x86, 0x99, 0xc4, 0xdb, 0xfa, 0xe5, 0x40, 0x5f, 0x7e, 0x61, 0x3c, 0x23, 0x02, 0x1d,\n",
    "    0x49, 0x56, 0x77, 0x68, 0x35, 0x2a, 0x0b, 0x14, 0xb1, 0xae, 0x8f, 0x90, 0xcd, 0xd2, 0xf3, 0xec\n",
    "    ]"
   ]
  },
  {
   "cell_type": "code",
   "execution_count": 7,
   "metadata": {},
   "outputs": [
    {
     "name": "stdout",
     "output_type": "stream",
     "text": [
      "[ 19,  12,  45,  50, 111, 112,  81,  78, 235, 244, 213, 202, 151, 136, 169, 182]\n",
      "[226, 253, 220, 195, 158, 129, 160, 190,  26,   5,  36,  59, 102, 121,  88,  71]\n",
      "[240, 239, 206, 209, 140, 147, 178, 173,   8,  23,  54,  41, 116, 107,  74,  85]\n",
      "[  1,  30,  63,  32, 125,  98,  67,  92, 249, 230, 199, 216, 133, 154, 187, 164]\n",
      "[212, 203, 234, 245, 168, 183, 150, 137,  44,  51,  18,  13,  80,  79, 110, 113]\n",
      "[ 37,  58,  27,   4,  89,  70, 103, 120, 221, 194, 227, 252, 161, 190, 159, 128]\n",
      "[ 55,  40,   9,  22,  75,  84, 117, 106, 207, 208, 241, 238, 179, 172, 141, 146]\n",
      "[198, 217, 248, 231, 186, 165, 132, 155,  62,  33,   0,  31,  66,  93, 124,  99]\n",
      "[156, 131, 162, 189, 224, 255, 222, 193, 100, 123,  90,  69,  24,   7,  38,  57]\n",
      "[109, 114,  83,  76,  17,  14,  47,  48, 149, 138, 171, 180, 233, 246, 215, 200]\n",
      "[127,  96,  65,  94,   3,  28,  61,  34, 135, 152, 185, 166, 251, 228, 197, 218]\n",
      "[142, 145, 176, 175, 242, 237, 204, 211, 118, 105,  72,  87,  10,  21,  52,  43]\n",
      "[ 91,  68, 101, 122,  39,  56,  25,   6, 163, 188, 157, 130, 223, 192, 225, 254]\n",
      "[170, 181, 148, 139, 214, 201, 232, 247,  82,  77, 108, 115,  46,  49,  16,  15]\n",
      "[184, 167, 134, 153, 196, 219, 250, 229,  64,  95, 126,  97,  60,  35,   2,  29]\n",
      "[ 73,  86, 119, 104,  53,  42,  11,  20, 177, 174, 143, 144, 205, 210, 243, 236]\n",
      "\n",
      "The nonlinearity of aes_2sbox_7f s-box is: 0\n",
      "The linear probability of aes_2sbox_7f s-box is: 0.5\n",
      "The differential probability of aes_2sbox_7f s-box is: 0.9921875\n",
      "\n"
     ]
    }
   ],
   "source": [
    "Sbox2 = SBox(*aes_2sbox_7f, big_endian=False)\n",
    "print_matrix(MatrixFromSquareArray(aes_2sbox_7f))\n",
    "print()\n",
    "print_s_box_properties(Sbox2, \"aes_2sbox_7f s-box\")"
   ]
  },
  {
   "cell_type": "markdown",
   "metadata": {},
   "source": [
    "Create the 7F Xor s-box from the AES-2SBOX"
   ]
  },
  {
   "cell_type": "code",
   "execution_count": 8,
   "metadata": {},
   "outputs": [
    {
     "name": "stdout",
     "output_type": "stream",
     "text": [
      "[ 28,   3,   8,   4, 141,  20,  16, 186,  79, 126,  24,  84, 129, 168, 212,   9]\n",
      "[181, 253, 182,   2, 133,  38,  56, 143, 210, 171, 221, 208, 227, 219,  13, 191]\n",
      "[200, 130, 236,  89,  73,  64, 136, 179,  75, 218, 154, 142,  14, 167,  78, 106]\n",
      "[123, 184,  92, 188, 103, 233, 122, 229, 120, 109, 255, 157, 148,  88, 205,  10]\n",
      "[118, 252,  83, 101, 100,  17,  37, 223,  45,  68, 169, 204,  86, 156,  80, 251]\n",
      "[ 44, 174, 127, 146,  95, 131, 206,  36,  21, 180, 193,  70,  53,  51,  39, 176]\n",
      "[175, 144, 213, 132,  60,  50,  76, 250,  58, 134, 125,   0,  47,  67, 224, 215]\n",
      "[ 46, 220,  63, 240, 237, 226,  71, 138, 195, 201, 165,  94, 111, 128, 140, 173]\n",
      "[178, 115, 108, 147,  32, 232,  59, 104, 187, 216,   1,  66,  27,  34, 102,  12]\n",
      "[ 31, 254,  48, 163,  93,  85, 239, 247,  57, 145, 199, 107, 161,  33, 116, 164]\n",
      "[159,  77,  69, 117,  54, 121,  91,  35, 189, 172, 211,  29, 238, 234, 155,   6]\n",
      "[152, 183,  72,  18, 242, 170,  49, 214,  19,  41, 139, 149,  26,   5, 209, 119]\n",
      "[197,   7,  90,  81,  99, 217, 203, 185, 151, 162,  11,  96,  52, 194, 244, 245]\n",
      "[ 15,  65, 202,  25,  55, 124, 137, 113,  30,  74,  40, 198, 249, 190,  98, 225]\n",
      "[158, 135, 231, 110,  22, 166, 241, 235, 228,  97, 248, 150, 177,  42,  87, 160]\n",
      "[243, 222, 246, 114, 192, 153,  61,  23,  62, 230,  82, 112, 207,  43, 196, 105]\n"
     ]
    }
   ],
   "source": [
    "from bitarray import bitarray\n",
    "aes_2sbox_7f = [x ^ 127 for x in s_box_def()]\n",
    "\n",
    "c = [0,1,1,0,0,0,1,1]\n",
    "for i, byte in enumerate(aes_2sbox_7f):\n",
    "    bit_arr = bitarray('{0:08b}'.format(byte))\n",
    "    new_bit_arr = bitarray()\n",
    "    for j in range(len(bit_arr)):\n",
    "        new_bit = bit_arr[j] ^ bit_arr[(j+4)%8] ^ bit_arr[(j+5)%8]\\\n",
    "        ^ bit_arr[(j+6)%8] ^ bit_arr[(j+7)%8] ^ c[j]\n",
    "        new_bit_arr.append(new_bit)\n",
    "    aes_2sbox_7f[i] = int(new_bit_arr.to01(), 2)\n",
    "\n",
    "print_matrix(MatrixFromSquareArray(aes_2sbox_7f))"
   ]
  },
  {
   "cell_type": "markdown",
   "metadata": {},
   "source": [
    "Testing the 7 HW S-box complement to Rijndael"
   ]
  },
  {
   "cell_type": "code",
   "execution_count": 9,
   "metadata": {},
   "outputs": [
    {
     "name": "stdout",
     "output_type": "stream",
     "text": [
      "[ 28,   3,   8,   4, 141,  20,  16, 186,  79, 126,  24,  84, 129, 168, 212,   9]\n",
      "[181, 253, 182,   2, 133,  38,  56, 143, 210, 171, 221, 208, 227, 219,  13, 191]\n",
      "[200, 130, 236,  89,  73,  64, 136, 179,  75, 218, 154, 142,  14, 167,  78, 106]\n",
      "[123, 184,  92, 188, 103, 233, 122, 229, 120, 109, 255, 157, 148,  88, 205,  10]\n",
      "[118, 252,  83, 101, 100,  17,  37, 223,  45,  68, 169, 204,  86, 156,  80, 251]\n",
      "[ 44, 174, 127, 146,  95, 131, 206,  36,  21, 180, 193,  70,  53,  51,  39, 176]\n",
      "[175, 144, 213, 132,  60,  50,  76, 250,  58, 134, 125,   0,  47,  67, 224, 215]\n",
      "[ 46, 220,  63, 240, 237, 226,  71, 138, 195, 201, 165,  94, 111, 128, 140, 173]\n",
      "[178, 115, 108, 147,  32, 232,  59, 104, 187, 216,   1,  66,  27,  34, 102,  12]\n",
      "[ 31, 254,  48, 163,  93,  85, 239, 247,  57, 145, 199, 107, 161,  33, 116, 164]\n",
      "[159,  77,  69, 117,  54, 121,  91,  35, 189, 172, 211,  29, 238, 234, 155,   6]\n",
      "[152, 183,  72,  18, 242, 170,  49, 214,  19,  41, 139, 149,  26,   5, 209, 119]\n",
      "[197,   7,  90,  81,  99, 217, 203, 185, 151, 162,  11,  96,  52, 194, 244, 245]\n",
      "[ 15,  65, 202,  25,  55, 124, 137, 113,  30,  74,  40, 198, 249, 190,  98, 225]\n",
      "[158, 135, 231, 110,  22, 166, 241, 235, 228,  97, 248, 150, 177,  42,  87, 160]\n",
      "[243, 222, 246, 114, 192, 153,  61,  23,  62, 230,  82, 112, 207,  43, 196, 105]\n",
      "\n",
      "The nonlinearity of Rijndael complement with Hamming Weight 7 is: 112\n",
      "The linear probability of Rijndael complement with Hamming Weight 7 is: 0.0625\n",
      "The differential probability of Rijndael complement with Hamming Weight 7 is: 0.015625\n",
      "\n"
     ]
    }
   ],
   "source": [
    "filename = \"complements/16_by_16/7_weight_dist.pkl\"\n",
    "try:\n",
    "    with open(filename, \"rb\") as f:\n",
    "        s_box_complement = pickle.load(f)\n",
    "except FileNotFoundError:\n",
    "    print(f\"\\nFile not found\")\n",
    "\n",
    "print_matrix(MatrixFromSquareArray(s_box_complement))\n",
    "print()\n",
    "print_s_box_properties(SBox(*s_box_complement), \"Rijndael complement with Hamming Weight 7\")\n"
   ]
  },
  {
   "cell_type": "markdown",
   "metadata": {},
   "source": [
    "Turning an s box for c_code"
   ]
  },
  {
   "cell_type": "code",
   "execution_count": 11,
   "metadata": {},
   "outputs": [],
   "source": [
    "def c_array(sbox):\n",
    "    N = math.sqrt(len(sbox))\n",
    "    if not N.is_integer():\n",
    "        print(\"Invalid dimensions! Not a square sbox\")\n",
    "    \n",
    "    formatted_elements = [\"0x{:02X}\".format(i).lower() for i in sbox]\n",
    "    hex_vals = [\"{:01X}\".format(i) for i in range(int(N))]\n",
    "    string = \"{\\n\"\n",
    "    string += \"// \" + \"     \".join(\"%s\" %x for x in hex_vals) + \"\\n\"\n",
    "    for i, hex_str in enumerate(formatted_elements):\n",
    "        if i % N == 0 and i != 0:\n",
    "            string += f\" // {hex_vals[int(i/N)-1]}\\n\"\n",
    "\n",
    "        if i == len(formatted_elements)-1:\n",
    "            string += hex_str\n",
    "        else:\n",
    "            string += hex_str + \", \"\n",
    "    string += f\"   // {hex_vals[int(i/N)]}\\n}};\"\n",
    "    print(string)"
   ]
  },
  {
   "cell_type": "code",
   "execution_count": 12,
   "metadata": {},
   "outputs": [
    {
     "name": "stdout",
     "output_type": "stream",
     "text": [
      "{\n",
      "// 0     1     2     3     4     5     6     7     8     9     A     B     C     D     E     F\n",
      "0x1c, 0x03, 0x08, 0x04, 0x8d, 0x14, 0x10, 0xba, 0x4f, 0x7e, 0x18, 0x54, 0x81, 0xa8, 0xd4, 0x09,  // 0\n",
      "0xb5, 0xfd, 0xb6, 0x02, 0x85, 0x26, 0x38, 0x8f, 0xd2, 0xab, 0xdd, 0xd0, 0xe3, 0xdb, 0x0d, 0xbf,  // 1\n",
      "0xc8, 0x82, 0xec, 0x59, 0x49, 0x40, 0x88, 0xb3, 0x4b, 0xda, 0x9a, 0x8e, 0x0e, 0xa7, 0x4e, 0x6a,  // 2\n",
      "0x7b, 0xb8, 0x5c, 0xbc, 0x67, 0xe9, 0x7a, 0xe5, 0x78, 0x6d, 0xff, 0x9d, 0x94, 0x58, 0xcd, 0x0a,  // 3\n",
      "0x76, 0xfc, 0x53, 0x65, 0x64, 0x11, 0x25, 0xdf, 0x2d, 0x44, 0xa9, 0xcc, 0x56, 0x9c, 0x50, 0xfb,  // 4\n",
      "0x2c, 0xae, 0x7f, 0x92, 0x5f, 0x83, 0xce, 0x24, 0x15, 0xb4, 0xc1, 0x46, 0x35, 0x33, 0x27, 0xb0,  // 5\n",
      "0xaf, 0x90, 0xd5, 0x84, 0x3c, 0x32, 0x4c, 0xfa, 0x3a, 0x86, 0x7d, 0x00, 0x2f, 0x43, 0xe0, 0xd7,  // 6\n",
      "0x2e, 0xdc, 0x3f, 0xf0, 0xed, 0xe2, 0x47, 0x8a, 0xc3, 0xc9, 0xa5, 0x5e, 0x6f, 0x80, 0x8c, 0xad,  // 7\n",
      "0xb2, 0x73, 0x6c, 0x93, 0x20, 0xe8, 0x3b, 0x68, 0xbb, 0xd8, 0x01, 0x42, 0x1b, 0x22, 0x66, 0x0c,  // 8\n",
      "0x1f, 0xfe, 0x30, 0xa3, 0x5d, 0x55, 0xef, 0xf7, 0x39, 0x91, 0xc7, 0x6b, 0xa1, 0x21, 0x74, 0xa4,  // 9\n",
      "0x9f, 0x4d, 0x45, 0x75, 0x36, 0x79, 0x5b, 0x23, 0xbd, 0xac, 0xd3, 0x1d, 0xee, 0xea, 0x9b, 0x06,  // A\n",
      "0x98, 0xb7, 0x48, 0x12, 0xf2, 0xaa, 0x31, 0xd6, 0x13, 0x29, 0x8b, 0x95, 0x1a, 0x05, 0xd1, 0x77,  // B\n",
      "0xc5, 0x07, 0x5a, 0x51, 0x63, 0xd9, 0xcb, 0xb9, 0x97, 0xa2, 0x0b, 0x60, 0x34, 0xc2, 0xf4, 0xf5,  // C\n",
      "0x0f, 0x41, 0xca, 0x19, 0x37, 0x7c, 0x89, 0x71, 0x1e, 0x4a, 0x28, 0xc6, 0xf9, 0xbe, 0x62, 0xe1,  // D\n",
      "0x9e, 0x87, 0xe7, 0x6e, 0x16, 0xa6, 0xf1, 0xeb, 0xe4, 0x61, 0xf8, 0x96, 0xb1, 0x2a, 0x57, 0xa0,  // E\n",
      "0xf3, 0xde, 0xf6, 0x72, 0xc0, 0x99, 0x3d, 0x17, 0x3e, 0xe6, 0x52, 0x70, 0xcf, 0x2b, 0xc4, 0x69   // F\n",
      "};\n"
     ]
    }
   ],
   "source": [
    "c_array(s_box_complement)"
   ]
  },
  {
   "cell_type": "markdown",
   "metadata": {},
   "source": [
    "Make the inverse of an S-box"
   ]
  },
  {
   "cell_type": "code",
   "execution_count": 37,
   "metadata": {},
   "outputs": [],
   "source": [
    "def sage_sbox_to_array(sage_sbox):\n",
    "    array = []\n",
    "\n",
    "    for element in sage_sbox:\n",
    "        array.append(element)\n",
    "    return array"
   ]
  },
  {
   "cell_type": "code",
   "execution_count": 42,
   "metadata": {},
   "outputs": [
    {
     "name": "stdout",
     "output_type": "stream",
     "text": [
      "[107, 138,  19,   1,   3, 189, 175, 193,   2,  15,  63, 202, 143,  30,  44, 208]\n",
      "[  6,  69, 179, 184,   5,  88, 228, 247,  10, 211, 188, 140,   0, 171, 216, 144]\n",
      "[132, 157, 141, 167,  87,  70,  21,  94, 218, 185, 237, 253,  80,  72, 112, 108]\n",
      "[146, 182, 101,  93, 204,  92, 164, 212,  22, 152, 104, 134, 100, 246, 248, 114]\n",
      "[ 37, 209, 139, 109,  73, 162,  91, 118, 178,  36, 217,  40, 102, 161,  46,   8]\n",
      "[ 78, 195, 250,  66,  11, 149,  76, 238,  61,  35, 194, 166,  50, 148, 123,  84]\n",
      "[203, 233, 222, 196,  68,  67, 142,  52, 135, 255,  47, 155, 130,  57, 227, 124]\n",
      "[251, 215, 243, 129, 158, 163,  64, 191,  56, 165,  54,  48, 213, 106,   9,  82]\n",
      "[125,  12,  33,  85,  99,  20, 105, 225,  38, 214, 119, 186, 126,   4,  43,  23]\n",
      "[ 97, 153,  83, 131,  60, 187, 235, 200, 176, 245,  42, 174,  77,  59, 224, 160]\n",
      "[239, 156, 201, 147, 159, 122, 229,  45,  13,  74, 181,  25, 169, 127,  81,  96]\n",
      "[ 95, 236, 128,  39,  89,  16,  18, 177,  49, 199,   7, 136,  51, 168, 221,  31]\n",
      "[244,  90, 205, 120, 254, 192, 219, 154,  32, 121, 210, 198,  75,  62,  86, 252]\n",
      "[ 27, 190,  24, 170,  14,  98, 183, 111, 137, 197,  41,  29, 113,  26, 241,  71]\n",
      "[110, 223, 117,  28, 232,  55, 249, 226, 133,  53, 173, 231,  34, 116, 172, 150]\n",
      "[115, 230, 180, 240, 206, 207, 242, 151, 234, 220, 103,  79,  65,  17, 145,  58]\n",
      "\n",
      "{\n",
      "// 0     1     2     3     4     5     6     7     8     9     A     B     C     D     E     F\n",
      "0x6b, 0x8a, 0x13, 0x01, 0x03, 0xbd, 0xaf, 0xc1, 0x02, 0x0f, 0x3f, 0xca, 0x8f, 0x1e, 0x2c, 0xd0,  // 0\n",
      "0x06, 0x45, 0xb3, 0xb8, 0x05, 0x58, 0xe4, 0xf7, 0x0a, 0xd3, 0xbc, 0x8c, 0x00, 0xab, 0xd8, 0x90,  // 1\n",
      "0x84, 0x9d, 0x8d, 0xa7, 0x57, 0x46, 0x15, 0x5e, 0xda, 0xb9, 0xed, 0xfd, 0x50, 0x48, 0x70, 0x6c,  // 2\n",
      "0x92, 0xb6, 0x65, 0x5d, 0xcc, 0x5c, 0xa4, 0xd4, 0x16, 0x98, 0x68, 0x86, 0x64, 0xf6, 0xf8, 0x72,  // 3\n",
      "0x25, 0xd1, 0x8b, 0x6d, 0x49, 0xa2, 0x5b, 0x76, 0xb2, 0x24, 0xd9, 0x28, 0x66, 0xa1, 0x2e, 0x08,  // 4\n",
      "0x4e, 0xc3, 0xfa, 0x42, 0x0b, 0x95, 0x4c, 0xee, 0x3d, 0x23, 0xc2, 0xa6, 0x32, 0x94, 0x7b, 0x54,  // 5\n",
      "0xcb, 0xe9, 0xde, 0xc4, 0x44, 0x43, 0x8e, 0x34, 0x87, 0xff, 0x2f, 0x9b, 0x82, 0x39, 0xe3, 0x7c,  // 6\n",
      "0xfb, 0xd7, 0xf3, 0x81, 0x9e, 0xa3, 0x40, 0xbf, 0x38, 0xa5, 0x36, 0x30, 0xd5, 0x6a, 0x09, 0x52,  // 7\n",
      "0x7d, 0x0c, 0x21, 0x55, 0x63, 0x14, 0x69, 0xe1, 0x26, 0xd6, 0x77, 0xba, 0x7e, 0x04, 0x2b, 0x17,  // 8\n",
      "0x61, 0x99, 0x53, 0x83, 0x3c, 0xbb, 0xeb, 0xc8, 0xb0, 0xf5, 0x2a, 0xae, 0x4d, 0x3b, 0xe0, 0xa0,  // 9\n",
      "0xef, 0x9c, 0xc9, 0x93, 0x9f, 0x7a, 0xe5, 0x2d, 0x0d, 0x4a, 0xb5, 0x19, 0xa9, 0x7f, 0x51, 0x60,  // A\n",
      "0x5f, 0xec, 0x80, 0x27, 0x59, 0x10, 0x12, 0xb1, 0x31, 0xc7, 0x07, 0x88, 0x33, 0xa8, 0xdd, 0x1f,  // B\n",
      "0xf4, 0x5a, 0xcd, 0x78, 0xfe, 0xc0, 0xdb, 0x9a, 0x20, 0x79, 0xd2, 0xc6, 0x4b, 0x3e, 0x56, 0xfc,  // C\n",
      "0x1b, 0xbe, 0x18, 0xaa, 0x0e, 0x62, 0xb7, 0x6f, 0x89, 0xc5, 0x29, 0x1d, 0x71, 0x1a, 0xf1, 0x47,  // D\n",
      "0x6e, 0xdf, 0x75, 0x1c, 0xe8, 0x37, 0xf9, 0xe2, 0x85, 0x35, 0xad, 0xe7, 0x22, 0x74, 0xac, 0x96,  // E\n",
      "0x73, 0xe6, 0xb4, 0xf0, 0xce, 0xcf, 0xf2, 0x97, 0xea, 0xdc, 0x67, 0x4f, 0x41, 0x11, 0x91, 0x3a   // F\n",
      "};\n"
     ]
    }
   ],
   "source": [
    "SInverse = SBox(*s_box_complement).inverse()\n",
    "\n",
    "inv_arr = sage_sbox_to_array(SInverse)\n",
    "print_matrix(MatrixFromSquareArray(inv_arr))\n",
    "print()\n",
    "c_array(inv_arr)"
   ]
  },
  {
   "cell_type": "markdown",
   "metadata": {},
   "source": [
    "Generate Random input files for encryption"
   ]
  },
  {
   "cell_type": "code",
   "execution_count": 47,
   "metadata": {},
   "outputs": [],
   "source": [
    "import random \n",
    "import string\n",
    "\n",
    "filepath = \"../../Cedar/tiny-AES-c-mulitple-sbox/dummy_files\"\n",
    "for i in range(100):\n",
    "    filename = f\"{filepath}/dummy_file_{i}.txt\"\n",
    "    with open(filename, \"w\") as f:\n",
    "        num_chars = 100 * 1000      # 100 kB (Sorta)\n",
    "        num_used = 0\n",
    "        while num_used < num_chars:\n",
    "            random_length = random.randint(1, 20)\n",
    "            random_string = ''.join(random.choices(string.ascii_letters, k=random_length))\n",
    "            f.write(random_string + \" \")\n",
    "            num_used += len(random_string) + 1"
   ]
  },
  {
   "cell_type": "code",
   "execution_count": null,
   "metadata": {},
   "outputs": [],
   "source": []
  }
 ],
 "metadata": {
  "kernelspec": {
   "display_name": "Python 3",
   "language": "python",
   "name": "python3"
  },
  "language_info": {
   "codemirror_mode": {
    "name": "ipython",
    "version": 3
   },
   "file_extension": ".py",
   "mimetype": "text/x-python",
   "name": "python",
   "nbconvert_exporter": "python",
   "pygments_lexer": "ipython3",
   "version": "3.10.12"
  }
 },
 "nbformat": 4,
 "nbformat_minor": 2
}
